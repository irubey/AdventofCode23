{
 "cells": [
  {
   "cell_type": "code",
   "execution_count": 24,
   "metadata": {},
   "outputs": [],
   "source": [
    "import re\n",
    "from typing import Generator, Tuple, List"
   ]
  },
  {
   "cell_type": "code",
   "execution_count": 34,
   "metadata": {},

   "source": [
    "# Read the file\n",
    "with open(\"./input-4.txt\") as file:\n",
    "    lines = file.read().splitlines()\n",
    "\n",
    "# Regular expression pattern\n",
    "# \\s* allows for any number of spaces\n",
    "# [0-9]+(?:\\s+[0-9]+)* matches one or more numbers separated by spaces\n",
    "pattern = r'Card\\s+(\\d+):\\s+([0-9]+(?:\\s+[0-9]+)*)\\s*\\|\\s*([0-9]+(?:\\s+[0-9]+)*)'\n",
    "\n",
    "extracted_data = []\n",
    "for line in lines:\n",
    "    match = re.match(pattern, line)\n",
    "    if match:\n",
    "        card_id = match.group(1)\n",
    "        winning_numbers = match.group(2)\n",
    "        card_numbers = match.group(3)\n",
    "\n",
    "        winning_numbers = [int(num) for num in winning_numbers.split()]\n",
    "        card_numbers = [int(num) for num in card_numbers.split()]\n",
    "\n",
    "\n",
    "\n",
    "        extracted_data.append((card_id, winning_numbers, card_numbers))\n",
    "\n",
    "print(extracted_data)\n",
    "\n"
   ]
  },
  {
   "cell_type": "code",
   "execution_count": 26,
   "metadata": {},
    }
   ],
   "source": [
    "matching_nums : List[Tuple[int,List[int]]] = []\n",
    "for id, winning_numbers, card_numbers in extracted_data:\n",
    "    matches = [num for num in winning_numbers if num in card_numbers]\n",
    "    if matches:\n",
    "        matching_nums.append((id, matches))\n",
    "\n",
    "print(matching_nums)\n"
   ]
  },
  {
   "cell_type": "code",
   "execution_count": 27,
   "metadata": {},
   "outputs": [
    {
     "name": "stdout",
     "output_type": "stream",
     "text": [
      "20107\n"
     ]
    }
   ],
   "source": [
    "points = 0\n",
    "\n",
    "for id, matches in matching_nums:\n",
    "    if matches:\n",
    "        points += 2 ** (len(matches) -1)\n",
    "\n",
    "print(points)"
   ]
  },
  {
   "cell_type": "code",
   "execution_count": 33,
   "metadata": {},
   "outputs": [],
   "source": [
    "from collections import deque"
   ]
  },
  {
   "cell_type": "code",
   "execution_count": 36,
   "metadata": {},
   "outputs": [
    {
     "name": "stdout",
     "output_type": "stream",
     "text": [
      "8172507\n"
     ]
    }
   ],
   "source": [
    "#Part 2 - Recursive Generation\n",
    "\n",
    "def process_card(card_data):\n",
    "    id, winning_numbers, card_numbers = card_data\n",
    "\n",
    "    matches = [num for num in winning_numbers if num in card_numbers]\n",
    "    num_matches = len(matches)\n",
    "\n",
    "    return id, num_matches\n",
    "\n",
    "\n",
    "\n",
    "queue = deque(extracted_data)\n",
    "\n",
    "total_cards = 0\n",
    "\n",
    "while queue:\n",
    "    current_card = queue.popleft()\n",
    "    total_cards +=1\n",
    "\n",
    "    current_id, matches = process_card(current_card)\n",
    "    \n",
    "    for i in range(matches):\n",
    "        next_card_index = int(current_id) + i\n",
    "        if next_card_index < len(extracted_data):\n",
    "            queue.append(extracted_data[next_card_index])\n",
    "\n",
    "print(total_cards)"
   ]
  },
  {
   "cell_type": "code",
   "execution_count": null,
   "metadata": {},
   "outputs": [],
   "source": []
  }
 ],
 "metadata": {
  "kernelspec": {
   "display_name": "Python 3",
   "language": "python",
   "name": "python3"
  },
  "language_info": {
   "codemirror_mode": {
    "name": "ipython",
    "version": 3
   },
   "file_extension": ".py",
   "mimetype": "text/x-python",
   "name": "python",
   "nbconvert_exporter": "python",
   "pygments_lexer": "ipython3",
   "version": "3.12.1"
  }
 },
 "nbformat": 4,
 "nbformat_minor": 2
}
